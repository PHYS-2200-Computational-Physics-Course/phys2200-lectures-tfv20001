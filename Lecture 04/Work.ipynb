{
 "cells": [
  {
   "cell_type": "code",
   "execution_count": 2,
   "id": "e3c3afff-efc6-4393-9d6f-2505a9767f25",
   "metadata": {},
   "outputs": [],
   "source": [
    "# ] add DelimitedFiles\n",
    "using DelimitedFiles"
   ]
  },
  {
   "cell_type": "code",
   "execution_count": 3,
   "id": "e2706e67-2a88-4521-98e1-a1afa9f319d9",
   "metadata": {},
   "outputs": [
    {
     "data": {
      "text/plain": [
       "\"https://www.phys.uconn.edu/~rozman/Courses/P2200_25F/downloads/trinity-test.data\""
      ]
     },
     "execution_count": 3,
     "metadata": {},
     "output_type": "execute_result"
    }
   ],
   "source": [
    "url = \"https://www.phys.uconn.edu/~rozman/Courses/P2200_25F/downloads/trinity-test.data\""
   ]
  },
  {
   "cell_type": "code",
   "execution_count": 4,
   "id": "8551f4be-6c82-4efe-86e1-22a3c57ea4ab",
   "metadata": {},
   "outputs": [
    {
     "data": {
      "text/plain": [
       "\"/tmp/jl_4rSfIj2JS7\""
      ]
     },
     "execution_count": 4,
     "metadata": {},
     "output_type": "execute_result"
    }
   ],
   "source": [
    "observations = download(url)"
   ]
  },
  {
   "cell_type": "code",
   "execution_count": 5,
   "id": "8dc55246-92d0-4c81-bfc5-b302bc10f7a5",
   "metadata": {},
   "outputs": [
    {
     "data": {
      "text/plain": [
       "25×2 Matrix{Float64}:\n",
       "  0.1    11.1\n",
       "  0.24   19.9\n",
       "  0.38   25.4\n",
       "  0.52   28.8\n",
       "  0.66   31.9\n",
       "  0.8    34.2\n",
       "  0.94   36.3\n",
       "  1.08   38.9\n",
       "  1.22   41.0\n",
       "  1.36   42.8\n",
       "  1.5    44.4\n",
       "  1.65   46.0\n",
       "  1.79   46.9\n",
       "  1.93   48.7\n",
       "  3.26   59.0\n",
       "  3.53   61.1\n",
       "  3.8    62.9\n",
       "  4.07   64.3\n",
       "  4.34   65.6\n",
       "  4.61   67.3\n",
       " 15.0   106.5\n",
       " 25.0   130.0\n",
       " 34.0   145.0\n",
       " 53.0   175.0\n",
       " 62.0   185.0"
      ]
     },
     "execution_count": 5,
     "metadata": {},
     "output_type": "execute_result"
    }
   ],
   "source": [
    "dat = readdlm(observations, comments=true, comment_char='#')"
   ]
  },
  {
   "cell_type": "code",
   "execution_count": 6,
   "id": "72213d23-38fb-4d60-b132-69ea328f8f0e",
   "metadata": {},
   "outputs": [
    {
     "data": {
      "text/plain": [
       "25-element Vector{Float64}:\n",
       "  0.1\n",
       "  0.24\n",
       "  0.38\n",
       "  0.52\n",
       "  0.66\n",
       "  0.8\n",
       "  0.94\n",
       "  1.08\n",
       "  1.22\n",
       "  1.36\n",
       "  1.5\n",
       "  1.65\n",
       "  1.79\n",
       "  1.93\n",
       "  3.26\n",
       "  3.53\n",
       "  3.8\n",
       "  4.07\n",
       "  4.34\n",
       "  4.61\n",
       " 15.0\n",
       " 25.0\n",
       " 34.0\n",
       " 53.0\n",
       " 62.0"
      ]
     },
     "execution_count": 6,
     "metadata": {},
     "output_type": "execute_result"
    }
   ],
   "source": [
    "time = dat[:, 1]     # time in ms"
   ]
  },
  {
   "cell_type": "code",
   "execution_count": 7,
   "id": "0e89dd92-f809-405d-a5eb-2c88e275329e",
   "metadata": {},
   "outputs": [
    {
     "data": {
      "text/plain": [
       "25-element Vector{Float64}:\n",
       "  11.1\n",
       "  19.9\n",
       "  25.4\n",
       "  28.8\n",
       "  31.9\n",
       "  34.2\n",
       "  36.3\n",
       "  38.9\n",
       "  41.0\n",
       "  42.8\n",
       "  44.4\n",
       "  46.0\n",
       "  46.9\n",
       "  48.7\n",
       "  59.0\n",
       "  61.1\n",
       "  62.9\n",
       "  64.3\n",
       "  65.6\n",
       "  67.3\n",
       " 106.5\n",
       " 130.0\n",
       " 145.0\n",
       " 175.0\n",
       " 185.0"
      ]
     },
     "execution_count": 7,
     "metadata": {},
     "output_type": "execute_result"
    }
   ],
   "source": [
    "radius = dat[:, 2]   # radius in m"
   ]
  },
  {
   "cell_type": "code",
   "execution_count": 8,
   "id": "4fde7f35-9287-4663-a915-039c1b2269f0",
   "metadata": {},
   "outputs": [
    {
     "data": {
      "text/plain": [
       "25"
      ]
     },
     "execution_count": 8,
     "metadata": {},
     "output_type": "execute_result"
    }
   ],
   "source": [
    "np = length(time)    # number of data points"
   ]
  },
  {
   "cell_type": "code",
   "execution_count": 9,
   "id": "d2f94d3e-1adb-4813-b40e-cbdac8c7ac96",
   "metadata": {},
   "outputs": [],
   "source": [
    "using PyPlot"
   ]
  },
  {
   "cell_type": "code",
   "execution_count": 10,
   "id": "da46d33d-417f-44a5-b29f-8c4ed7639dd8",
   "metadata": {},
   "outputs": [
    {
     "data": {
      "image/png": "[encoded data removed]",
      "text/plain": [
       "Figure(PyObject <Figure size 640x480 with 1 Axes>)"
      ]
     },
     "metadata": {},
     "output_type": "display_data"
    }
   ],
   "source": [
    "loglog(time, radius, \"bo\", label=\"observations\")\n",
    "grid(true)\n",
    "xlabel(\"t (ms)\")\n",
    "ylabel(\"R (m)\")\n",
    "legend()\n",
    "title(\"Trinity fireball radius as a function of time\");"
   ]
  },
  {
   "cell_type": "code",
   "execution_count": null,
   "id": "2b05c018-da46-4038-9606-8019f723c8a5",
   "metadata": {},
   "outputs": [],
   "source": []
  }
 ],
 "metadata": {
  "kernelspec": {
   "display_name": "Julia 1.11.6",
   "language": "julia",
   "name": "julia-1.11"
  },
  "language_info": {
   "file_extension": ".jl",
   "mimetype": "application/julia",
   "name": "julia",
   "version": "1.11.6"
  }
 },
 "nbformat": 4,
 "nbformat_minor": 5
}
